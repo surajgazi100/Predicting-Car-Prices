{
  "nbformat": 4,
  "nbformat_minor": 0,
  "metadata": {
    "colab": {
      "name": "Untitled13.ipynb",
      "provenance": [],
      "authorship_tag": "ABX9TyP7wziKdG7f+TBp+fP+5klA",
      "include_colab_link": true
    },
    "kernelspec": {
      "name": "python3",
      "display_name": "Python 3"
    }
  },
  "cells": [
    {
      "cell_type": "markdown",
      "metadata": {
        "id": "view-in-github",
        "colab_type": "text"
      },
      "source": [
        "<a href=\"https://colab.research.google.com/github/surajgazi100/Predicting-Car-Prices/blob/main/Predicting%20Car%20Prices.ipynb\" target=\"_parent\"><img src=\"https://colab.research.google.com/assets/colab-badge.svg\" alt=\"Open In Colab\"/></a>"
      ]
    },
    {
      "cell_type": "code",
      "metadata": {
        "id": "Y8HhRWmCSpNp",
        "outputId": "7656c8ba-6706-46b2-cb0a-06097fba43b8",
        "colab": {
          "resources": {
            "http://localhost:8080/nbextensions/google.colab/files.js": {
              "data": "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",
              "ok": true,
              "headers": [
                [
                  "content-type",
                  "application/javascript"
                ]
              ],
              "status": 200,
              "status_text": ""
            }
          },
          "base_uri": "https://localhost:8080/",
          "height": 73
        }
      },
      "source": [
        "import pandas as pd\n",
        "\n",
        "from google.colab import files\n",
        "uploaded = files.upload()\n"
      ],
      "execution_count": 6,
      "outputs": [
        {
          "output_type": "display_data",
          "data": {
            "text/html": [
              "\n",
              "     <input type=\"file\" id=\"files-a830d04f-61c2-4d52-812e-7c7cc40eaa3f\" name=\"files[]\" multiple disabled\n",
              "        style=\"border:none\" />\n",
              "     <output id=\"result-a830d04f-61c2-4d52-812e-7c7cc40eaa3f\">\n",
              "      Upload widget is only available when the cell has been executed in the\n",
              "      current browser session. Please rerun this cell to enable.\n",
              "      </output>\n",
              "      <script src=\"/nbextensions/google.colab/files.js\"></script> "
            ],
            "text/plain": [
              "<IPython.core.display.HTML object>"
            ]
          },
          "metadata": {
            "tags": []
          }
        },
        {
          "output_type": "stream",
          "text": [
            "Saving imports-85.data to imports-85.data\n"
          ],
          "name": "stdout"
        }
      ]
    },
    {
      "cell_type": "code",
      "metadata": {
        "id": "r-udAQyejy1k"
      },
      "source": [
        "\n",
        "columns = ['symboling', 'normalized_losses', 'make:', 'fuel-type', 'aspirations',\n",
        "               'num_of_doors', 'body_style', 'drive_wheels', 'engine_location',\n",
        "               'wheel_base', 'length', 'width', 'height', 'curb_weight', 'engine_type',\n",
        "               'num_of_cylinders', 'engine-size', 'fuel-system', 'bore', 'stroke',\n",
        "               'compression-ratio', 'horsepower', 'peak-rpm', 'city-mpg', 'highway-mpg',\n",
        "               'price']"
      ],
      "execution_count": 7,
      "outputs": []
    },
    {
      "cell_type": "code",
      "metadata": {
        "id": "j1MztiKmjGSK"
      },
      "source": [
        "cars = pd.read_csv('imports-85.data', names = columns)"
      ],
      "execution_count": 8,
      "outputs": []
    },
    {
      "cell_type": "code",
      "metadata": {
        "id": "Q_KbIJq8k0RV",
        "outputId": "840a5bc7-766f-4642-b050-300a7a207e9f",
        "colab": {
          "base_uri": "https://localhost:8080/",
          "height": 571
        }
      },
      "source": [
        "cars.info()"
      ],
      "execution_count": 9,
      "outputs": [
        {
          "output_type": "stream",
          "text": [
            "<class 'pandas.core.frame.DataFrame'>\n",
            "RangeIndex: 205 entries, 0 to 204\n",
            "Data columns (total 26 columns):\n",
            " #   Column             Non-Null Count  Dtype  \n",
            "---  ------             --------------  -----  \n",
            " 0   symboling          205 non-null    int64  \n",
            " 1   normalized_losses  205 non-null    object \n",
            " 2   make:              205 non-null    object \n",
            " 3   fuel-type          205 non-null    object \n",
            " 4   aspirations        205 non-null    object \n",
            " 5   num_of_doors       205 non-null    object \n",
            " 6   body_style         205 non-null    object \n",
            " 7   drive_wheels       205 non-null    object \n",
            " 8   engine_location    205 non-null    object \n",
            " 9   wheel_base         205 non-null    float64\n",
            " 10  length             205 non-null    float64\n",
            " 11  width              205 non-null    float64\n",
            " 12  height             205 non-null    float64\n",
            " 13  curb_weight        205 non-null    int64  \n",
            " 14  engine_type        205 non-null    object \n",
            " 15  num_of_cylinders   205 non-null    object \n",
            " 16  engine-size        205 non-null    int64  \n",
            " 17  fuel-system        205 non-null    object \n",
            " 18  bore               205 non-null    object \n",
            " 19  stroke             205 non-null    object \n",
            " 20  compression-ratio  205 non-null    float64\n",
            " 21  horsepower         205 non-null    object \n",
            " 22  peak-rpm           205 non-null    object \n",
            " 23  city-mpg           205 non-null    int64  \n",
            " 24  highway-mpg        205 non-null    int64  \n",
            " 25  price              205 non-null    object \n",
            "dtypes: float64(5), int64(5), object(16)\n",
            "memory usage: 41.8+ KB\n"
          ],
          "name": "stdout"
        }
      ]
    },
    {
      "cell_type": "code",
      "metadata": {
        "id": "-QKfEGo9k658",
        "outputId": "23975853-caf3-4bf4-dd0f-df9021a981e2",
        "colab": {
          "base_uri": "https://localhost:8080/",
          "height": 282
        }
      },
      "source": [
        "\n",
        "cars.head()"
      ],
      "execution_count": 10,
      "outputs": [
        {
          "output_type": "execute_result",
          "data": {
            "text/html": [
              "<div>\n",
              "<style scoped>\n",
              "    .dataframe tbody tr th:only-of-type {\n",
              "        vertical-align: middle;\n",
              "    }\n",
              "\n",
              "    .dataframe tbody tr th {\n",
              "        vertical-align: top;\n",
              "    }\n",
              "\n",
              "    .dataframe thead th {\n",
              "        text-align: right;\n",
              "    }\n",
              "</style>\n",
              "<table border=\"1\" class=\"dataframe\">\n",
              "  <thead>\n",
              "    <tr style=\"text-align: right;\">\n",
              "      <th></th>\n",
              "      <th>symboling</th>\n",
              "      <th>normalized_losses</th>\n",
              "      <th>make:</th>\n",
              "      <th>fuel-type</th>\n",
              "      <th>aspirations</th>\n",
              "      <th>num_of_doors</th>\n",
              "      <th>body_style</th>\n",
              "      <th>drive_wheels</th>\n",
              "      <th>engine_location</th>\n",
              "      <th>wheel_base</th>\n",
              "      <th>length</th>\n",
              "      <th>width</th>\n",
              "      <th>height</th>\n",
              "      <th>curb_weight</th>\n",
              "      <th>engine_type</th>\n",
              "      <th>num_of_cylinders</th>\n",
              "      <th>engine-size</th>\n",
              "      <th>fuel-system</th>\n",
              "      <th>bore</th>\n",
              "      <th>stroke</th>\n",
              "      <th>compression-ratio</th>\n",
              "      <th>horsepower</th>\n",
              "      <th>peak-rpm</th>\n",
              "      <th>city-mpg</th>\n",
              "      <th>highway-mpg</th>\n",
              "      <th>price</th>\n",
              "    </tr>\n",
              "  </thead>\n",
              "  <tbody>\n",
              "    <tr>\n",
              "      <th>0</th>\n",
              "      <td>3</td>\n",
              "      <td>?</td>\n",
              "      <td>alfa-romero</td>\n",
              "      <td>gas</td>\n",
              "      <td>std</td>\n",
              "      <td>two</td>\n",
              "      <td>convertible</td>\n",
              "      <td>rwd</td>\n",
              "      <td>front</td>\n",
              "      <td>88.6</td>\n",
              "      <td>168.8</td>\n",
              "      <td>64.1</td>\n",
              "      <td>48.8</td>\n",
              "      <td>2548</td>\n",
              "      <td>dohc</td>\n",
              "      <td>four</td>\n",
              "      <td>130</td>\n",
              "      <td>mpfi</td>\n",
              "      <td>3.47</td>\n",
              "      <td>2.68</td>\n",
              "      <td>9.0</td>\n",
              "      <td>111</td>\n",
              "      <td>5000</td>\n",
              "      <td>21</td>\n",
              "      <td>27</td>\n",
              "      <td>13495</td>\n",
              "    </tr>\n",
              "    <tr>\n",
              "      <th>1</th>\n",
              "      <td>3</td>\n",
              "      <td>?</td>\n",
              "      <td>alfa-romero</td>\n",
              "      <td>gas</td>\n",
              "      <td>std</td>\n",
              "      <td>two</td>\n",
              "      <td>convertible</td>\n",
              "      <td>rwd</td>\n",
              "      <td>front</td>\n",
              "      <td>88.6</td>\n",
              "      <td>168.8</td>\n",
              "      <td>64.1</td>\n",
              "      <td>48.8</td>\n",
              "      <td>2548</td>\n",
              "      <td>dohc</td>\n",
              "      <td>four</td>\n",
              "      <td>130</td>\n",
              "      <td>mpfi</td>\n",
              "      <td>3.47</td>\n",
              "      <td>2.68</td>\n",
              "      <td>9.0</td>\n",
              "      <td>111</td>\n",
              "      <td>5000</td>\n",
              "      <td>21</td>\n",
              "      <td>27</td>\n",
              "      <td>16500</td>\n",
              "    </tr>\n",
              "    <tr>\n",
              "      <th>2</th>\n",
              "      <td>1</td>\n",
              "      <td>?</td>\n",
              "      <td>alfa-romero</td>\n",
              "      <td>gas</td>\n",
              "      <td>std</td>\n",
              "      <td>two</td>\n",
              "      <td>hatchback</td>\n",
              "      <td>rwd</td>\n",
              "      <td>front</td>\n",
              "      <td>94.5</td>\n",
              "      <td>171.2</td>\n",
              "      <td>65.5</td>\n",
              "      <td>52.4</td>\n",
              "      <td>2823</td>\n",
              "      <td>ohcv</td>\n",
              "      <td>six</td>\n",
              "      <td>152</td>\n",
              "      <td>mpfi</td>\n",
              "      <td>2.68</td>\n",
              "      <td>3.47</td>\n",
              "      <td>9.0</td>\n",
              "      <td>154</td>\n",
              "      <td>5000</td>\n",
              "      <td>19</td>\n",
              "      <td>26</td>\n",
              "      <td>16500</td>\n",
              "    </tr>\n",
              "    <tr>\n",
              "      <th>3</th>\n",
              "      <td>2</td>\n",
              "      <td>164</td>\n",
              "      <td>audi</td>\n",
              "      <td>gas</td>\n",
              "      <td>std</td>\n",
              "      <td>four</td>\n",
              "      <td>sedan</td>\n",
              "      <td>fwd</td>\n",
              "      <td>front</td>\n",
              "      <td>99.8</td>\n",
              "      <td>176.6</td>\n",
              "      <td>66.2</td>\n",
              "      <td>54.3</td>\n",
              "      <td>2337</td>\n",
              "      <td>ohc</td>\n",
              "      <td>four</td>\n",
              "      <td>109</td>\n",
              "      <td>mpfi</td>\n",
              "      <td>3.19</td>\n",
              "      <td>3.40</td>\n",
              "      <td>10.0</td>\n",
              "      <td>102</td>\n",
              "      <td>5500</td>\n",
              "      <td>24</td>\n",
              "      <td>30</td>\n",
              "      <td>13950</td>\n",
              "    </tr>\n",
              "    <tr>\n",
              "      <th>4</th>\n",
              "      <td>2</td>\n",
              "      <td>164</td>\n",
              "      <td>audi</td>\n",
              "      <td>gas</td>\n",
              "      <td>std</td>\n",
              "      <td>four</td>\n",
              "      <td>sedan</td>\n",
              "      <td>4wd</td>\n",
              "      <td>front</td>\n",
              "      <td>99.4</td>\n",
              "      <td>176.6</td>\n",
              "      <td>66.4</td>\n",
              "      <td>54.3</td>\n",
              "      <td>2824</td>\n",
              "      <td>ohc</td>\n",
              "      <td>five</td>\n",
              "      <td>136</td>\n",
              "      <td>mpfi</td>\n",
              "      <td>3.19</td>\n",
              "      <td>3.40</td>\n",
              "      <td>8.0</td>\n",
              "      <td>115</td>\n",
              "      <td>5500</td>\n",
              "      <td>18</td>\n",
              "      <td>22</td>\n",
              "      <td>17450</td>\n",
              "    </tr>\n",
              "  </tbody>\n",
              "</table>\n",
              "</div>"
            ],
            "text/plain": [
              "   symboling normalized_losses        make:  ... city-mpg highway-mpg  price\n",
              "0          3                 ?  alfa-romero  ...       21          27  13495\n",
              "1          3                 ?  alfa-romero  ...       21          27  16500\n",
              "2          1                 ?  alfa-romero  ...       19          26  16500\n",
              "3          2               164         audi  ...       24          30  13950\n",
              "4          2               164         audi  ...       18          22  17450\n",
              "\n",
              "[5 rows x 26 columns]"
            ]
          },
          "metadata": {
            "tags": []
          },
          "execution_count": 10
        }
      ]
    },
    {
      "cell_type": "code",
      "metadata": {
        "id": "uIpOFThVlEbU",
        "outputId": "88213275-d73e-4f59-d043-21478fb71d57",
        "colab": {
          "base_uri": "https://localhost:8080/",
          "height": 370
        }
      },
      "source": [
        "\n",
        "import numpy as np\n",
        "\n",
        "numeric_columns = [ 'normalized_losses', 'wheel_base', 'length', 'width', \n",
        "                   'height','curb_weight', 'bore', 'stroke', 'compression-ratio', \n",
        "                   'horsepower','peak-rpm', 'city-mpg', 'highway-mpg', 'price']\n",
        "numeric_cars = cars[numeric_columns]\n",
        "numeric_cars.info()"
      ],
      "execution_count": 11,
      "outputs": [
        {
          "output_type": "stream",
          "text": [
            "<class 'pandas.core.frame.DataFrame'>\n",
            "RangeIndex: 205 entries, 0 to 204\n",
            "Data columns (total 14 columns):\n",
            " #   Column             Non-Null Count  Dtype  \n",
            "---  ------             --------------  -----  \n",
            " 0   normalized_losses  205 non-null    object \n",
            " 1   wheel_base         205 non-null    float64\n",
            " 2   length             205 non-null    float64\n",
            " 3   width              205 non-null    float64\n",
            " 4   height             205 non-null    float64\n",
            " 5   curb_weight        205 non-null    int64  \n",
            " 6   bore               205 non-null    object \n",
            " 7   stroke             205 non-null    object \n",
            " 8   compression-ratio  205 non-null    float64\n",
            " 9   horsepower         205 non-null    object \n",
            " 10  peak-rpm           205 non-null    object \n",
            " 11  city-mpg           205 non-null    int64  \n",
            " 12  highway-mpg        205 non-null    int64  \n",
            " 13  price              205 non-null    object \n",
            "dtypes: float64(5), int64(3), object(6)\n",
            "memory usage: 22.5+ KB\n"
          ],
          "name": "stdout"
        }
      ]
    },
    {
      "cell_type": "code",
      "metadata": {
        "id": "UU1fcCnZlLrm",
        "outputId": "80400d63-477d-4362-cbf4-716b1126b258",
        "colab": {
          "base_uri": "https://localhost:8080/",
          "height": 343
        }
      },
      "source": [
        "object_columns = ['normalized_losses', 'bore', 'stroke', 'horsepower', 'peak-rpm', 'price']\n",
        "numeric_cars[object_columns].head(10)"
      ],
      "execution_count": 12,
      "outputs": [
        {
          "output_type": "execute_result",
          "data": {
            "text/html": [
              "<div>\n",
              "<style scoped>\n",
              "    .dataframe tbody tr th:only-of-type {\n",
              "        vertical-align: middle;\n",
              "    }\n",
              "\n",
              "    .dataframe tbody tr th {\n",
              "        vertical-align: top;\n",
              "    }\n",
              "\n",
              "    .dataframe thead th {\n",
              "        text-align: right;\n",
              "    }\n",
              "</style>\n",
              "<table border=\"1\" class=\"dataframe\">\n",
              "  <thead>\n",
              "    <tr style=\"text-align: right;\">\n",
              "      <th></th>\n",
              "      <th>normalized_losses</th>\n",
              "      <th>bore</th>\n",
              "      <th>stroke</th>\n",
              "      <th>horsepower</th>\n",
              "      <th>peak-rpm</th>\n",
              "      <th>price</th>\n",
              "    </tr>\n",
              "  </thead>\n",
              "  <tbody>\n",
              "    <tr>\n",
              "      <th>0</th>\n",
              "      <td>?</td>\n",
              "      <td>3.47</td>\n",
              "      <td>2.68</td>\n",
              "      <td>111</td>\n",
              "      <td>5000</td>\n",
              "      <td>13495</td>\n",
              "    </tr>\n",
              "    <tr>\n",
              "      <th>1</th>\n",
              "      <td>?</td>\n",
              "      <td>3.47</td>\n",
              "      <td>2.68</td>\n",
              "      <td>111</td>\n",
              "      <td>5000</td>\n",
              "      <td>16500</td>\n",
              "    </tr>\n",
              "    <tr>\n",
              "      <th>2</th>\n",
              "      <td>?</td>\n",
              "      <td>2.68</td>\n",
              "      <td>3.47</td>\n",
              "      <td>154</td>\n",
              "      <td>5000</td>\n",
              "      <td>16500</td>\n",
              "    </tr>\n",
              "    <tr>\n",
              "      <th>3</th>\n",
              "      <td>164</td>\n",
              "      <td>3.19</td>\n",
              "      <td>3.40</td>\n",
              "      <td>102</td>\n",
              "      <td>5500</td>\n",
              "      <td>13950</td>\n",
              "    </tr>\n",
              "    <tr>\n",
              "      <th>4</th>\n",
              "      <td>164</td>\n",
              "      <td>3.19</td>\n",
              "      <td>3.40</td>\n",
              "      <td>115</td>\n",
              "      <td>5500</td>\n",
              "      <td>17450</td>\n",
              "    </tr>\n",
              "    <tr>\n",
              "      <th>5</th>\n",
              "      <td>?</td>\n",
              "      <td>3.19</td>\n",
              "      <td>3.40</td>\n",
              "      <td>110</td>\n",
              "      <td>5500</td>\n",
              "      <td>15250</td>\n",
              "    </tr>\n",
              "    <tr>\n",
              "      <th>6</th>\n",
              "      <td>158</td>\n",
              "      <td>3.19</td>\n",
              "      <td>3.40</td>\n",
              "      <td>110</td>\n",
              "      <td>5500</td>\n",
              "      <td>17710</td>\n",
              "    </tr>\n",
              "    <tr>\n",
              "      <th>7</th>\n",
              "      <td>?</td>\n",
              "      <td>3.19</td>\n",
              "      <td>3.40</td>\n",
              "      <td>110</td>\n",
              "      <td>5500</td>\n",
              "      <td>18920</td>\n",
              "    </tr>\n",
              "    <tr>\n",
              "      <th>8</th>\n",
              "      <td>158</td>\n",
              "      <td>3.13</td>\n",
              "      <td>3.40</td>\n",
              "      <td>140</td>\n",
              "      <td>5500</td>\n",
              "      <td>23875</td>\n",
              "    </tr>\n",
              "    <tr>\n",
              "      <th>9</th>\n",
              "      <td>?</td>\n",
              "      <td>3.13</td>\n",
              "      <td>3.40</td>\n",
              "      <td>160</td>\n",
              "      <td>5500</td>\n",
              "      <td>?</td>\n",
              "    </tr>\n",
              "  </tbody>\n",
              "</table>\n",
              "</div>"
            ],
            "text/plain": [
              "  normalized_losses  bore stroke horsepower peak-rpm  price\n",
              "0                 ?  3.47   2.68        111     5000  13495\n",
              "1                 ?  3.47   2.68        111     5000  16500\n",
              "2                 ?  2.68   3.47        154     5000  16500\n",
              "3               164  3.19   3.40        102     5500  13950\n",
              "4               164  3.19   3.40        115     5500  17450\n",
              "5                 ?  3.19   3.40        110     5500  15250\n",
              "6               158  3.19   3.40        110     5500  17710\n",
              "7                 ?  3.19   3.40        110     5500  18920\n",
              "8               158  3.13   3.40        140     5500  23875\n",
              "9                 ?  3.13   3.40        160     5500      ?"
            ]
          },
          "metadata": {
            "tags": []
          },
          "execution_count": 12
        }
      ]
    },
    {
      "cell_type": "code",
      "metadata": {
        "id": "GnMKXySWlNq_",
        "outputId": "206db90c-7d83-43d5-cbcb-b9d698978120",
        "colab": {
          "base_uri": "https://localhost:8080/",
          "height": 370
        }
      },
      "source": [
        "import numpy as np\n",
        "\n",
        "numeric_cars = numeric_cars.replace('?', np.nan)\n",
        "numeric_cars[object_columns] = numeric_cars[object_columns].astype('float')\n",
        "numeric_cars.info()"
      ],
      "execution_count": 13,
      "outputs": [
        {
          "output_type": "stream",
          "text": [
            "<class 'pandas.core.frame.DataFrame'>\n",
            "RangeIndex: 205 entries, 0 to 204\n",
            "Data columns (total 14 columns):\n",
            " #   Column             Non-Null Count  Dtype  \n",
            "---  ------             --------------  -----  \n",
            " 0   normalized_losses  164 non-null    float64\n",
            " 1   wheel_base         205 non-null    float64\n",
            " 2   length             205 non-null    float64\n",
            " 3   width              205 non-null    float64\n",
            " 4   height             205 non-null    float64\n",
            " 5   curb_weight        205 non-null    int64  \n",
            " 6   bore               201 non-null    float64\n",
            " 7   stroke             201 non-null    float64\n",
            " 8   compression-ratio  205 non-null    float64\n",
            " 9   horsepower         203 non-null    float64\n",
            " 10  peak-rpm           203 non-null    float64\n",
            " 11  city-mpg           205 non-null    int64  \n",
            " 12  highway-mpg        205 non-null    int64  \n",
            " 13  price              201 non-null    float64\n",
            "dtypes: float64(11), int64(3)\n",
            "memory usage: 22.5 KB\n"
          ],
          "name": "stdout"
        }
      ]
    },
    {
      "cell_type": "code",
      "metadata": {
        "id": "ZYURGteFlWkl",
        "outputId": "adbda246-d0e7-4517-e23e-9b7c08b3a3f7",
        "colab": {
          "base_uri": "https://localhost:8080/",
          "height": 269
        }
      },
      "source": [
        "\n",
        "numeric_cars.isnull().sum()"
      ],
      "execution_count": 14,
      "outputs": [
        {
          "output_type": "execute_result",
          "data": {
            "text/plain": [
              "normalized_losses    41\n",
              "wheel_base            0\n",
              "length                0\n",
              "width                 0\n",
              "height                0\n",
              "curb_weight           0\n",
              "bore                  4\n",
              "stroke                4\n",
              "compression-ratio     0\n",
              "horsepower            2\n",
              "peak-rpm              2\n",
              "city-mpg              0\n",
              "highway-mpg           0\n",
              "price                 4\n",
              "dtype: int64"
            ]
          },
          "metadata": {
            "tags": []
          },
          "execution_count": 14
        }
      ]
    },
    {
      "cell_type": "code",
      "metadata": {
        "id": "AQ_TqMSmlXg2",
        "outputId": "afcd14b6-a26b-44ff-aec1-3899de399d00",
        "colab": {
          "base_uri": "https://localhost:8080/",
          "height": 370
        }
      },
      "source": [
        "numeric_cars = numeric_cars.dropna(subset=['price'] )\n",
        "numeric_cars = numeric_cars.fillna(numeric_cars.mean())\n",
        "numeric_cars.info()"
      ],
      "execution_count": 15,
      "outputs": [
        {
          "output_type": "stream",
          "text": [
            "<class 'pandas.core.frame.DataFrame'>\n",
            "Int64Index: 201 entries, 0 to 204\n",
            "Data columns (total 14 columns):\n",
            " #   Column             Non-Null Count  Dtype  \n",
            "---  ------             --------------  -----  \n",
            " 0   normalized_losses  201 non-null    float64\n",
            " 1   wheel_base         201 non-null    float64\n",
            " 2   length             201 non-null    float64\n",
            " 3   width              201 non-null    float64\n",
            " 4   height             201 non-null    float64\n",
            " 5   curb_weight        201 non-null    int64  \n",
            " 6   bore               201 non-null    float64\n",
            " 7   stroke             201 non-null    float64\n",
            " 8   compression-ratio  201 non-null    float64\n",
            " 9   horsepower         201 non-null    float64\n",
            " 10  peak-rpm           201 non-null    float64\n",
            " 11  city-mpg           201 non-null    int64  \n",
            " 12  highway-mpg        201 non-null    int64  \n",
            " 13  price              201 non-null    float64\n",
            "dtypes: float64(11), int64(3)\n",
            "memory usage: 23.6 KB\n"
          ],
          "name": "stdout"
        }
      ]
    },
    {
      "cell_type": "code",
      "metadata": {
        "id": "d7Iy_XAxliVe"
      },
      "source": [
        "price_col = numeric_cars['price']\n",
        "numeric_cars = (numeric_cars - numeric_cars.min())/(numeric_cars.max() - numeric_cars.min())\n",
        "numeric_cars['price'] = price_col"
      ],
      "execution_count": 17,
      "outputs": []
    },
    {
      "cell_type": "code",
      "metadata": {
        "id": "OmE0ElxXlnF-"
      },
      "source": [
        "from math import sqrt\n",
        "from sklearn.neighbors import KNeighborsRegressor\n",
        "from sklearn.metrics import mean_squared_error\n",
        "\n",
        "def knn_train_test(training_column, target_column, dataframe, k):\n",
        "    # Shuffling the index and creating two sets:\n",
        "    shuffled_index = np.random.permutation(dataframe.index)\n",
        "    dataframe = dataframe.reindex(shuffled_index)\n",
        "    train_df = dataframe.iloc[0:150]\n",
        "    test_df = dataframe.iloc[150:]   \n",
        "\n",
        "    # Apllying the model\n",
        "    knn = KNeighborsRegressor(n_neighbors = k)\n",
        "    knn.fit(train_df[[training_column]], train_df[target_column])\n",
        "    predictions = knn.predict(test_df[[training_column]])\n",
        "    \n",
        "    # Returning the RMSE\n",
        "    mse = mean_squared_error(test_df[target_column], predictions) \n",
        "    return sqrt(mse)"
      ],
      "execution_count": 18,
      "outputs": []
    },
    {
      "cell_type": "code",
      "metadata": {
        "id": "Kumljk09lpVU"
      },
      "source": [
        "features = list(numeric_cars)\n",
        "features.remove('price')\n",
        "k_values = [1, 3, 5, 7, 9]\n",
        "mse_dict = {}\n",
        "\n",
        "for column in features:\n",
        "    mse_list = []\n",
        "    mse_dict[column] = mse_list\n",
        "    for k in k_values:\n",
        "        mse = round(knn_train_test(column, 'price', numeric_cars, k), 1)\n",
        "        mse_list.append(mse)"
      ],
      "execution_count": 19,
      "outputs": []
    },
    {
      "cell_type": "code",
      "metadata": {
        "id": "dxIEoLnLltQc",
        "outputId": "32bf1da6-fa6c-438d-b121-a1daeadd9b23",
        "colab": {
          "base_uri": "https://localhost:8080/",
          "height": 225
        }
      },
      "source": [
        "univariate_mse = pd.DataFrame(data = mse_dict)\n",
        "univariate_mse['k'] = [1, 3, 5, 7, 9]\n",
        "univariate_mse = univariate_mse.set_index('k')\n",
        "univariate_mse"
      ],
      "execution_count": 20,
      "outputs": [
        {
          "output_type": "execute_result",
          "data": {
            "text/html": [
              "<div>\n",
              "<style scoped>\n",
              "    .dataframe tbody tr th:only-of-type {\n",
              "        vertical-align: middle;\n",
              "    }\n",
              "\n",
              "    .dataframe tbody tr th {\n",
              "        vertical-align: top;\n",
              "    }\n",
              "\n",
              "    .dataframe thead th {\n",
              "        text-align: right;\n",
              "    }\n",
              "</style>\n",
              "<table border=\"1\" class=\"dataframe\">\n",
              "  <thead>\n",
              "    <tr style=\"text-align: right;\">\n",
              "      <th></th>\n",
              "      <th>normalized_losses</th>\n",
              "      <th>wheel_base</th>\n",
              "      <th>length</th>\n",
              "      <th>width</th>\n",
              "      <th>height</th>\n",
              "      <th>curb_weight</th>\n",
              "      <th>bore</th>\n",
              "      <th>stroke</th>\n",
              "      <th>compression-ratio</th>\n",
              "      <th>horsepower</th>\n",
              "      <th>peak-rpm</th>\n",
              "      <th>city-mpg</th>\n",
              "      <th>highway-mpg</th>\n",
              "    </tr>\n",
              "    <tr>\n",
              "      <th>k</th>\n",
              "      <th></th>\n",
              "      <th></th>\n",
              "      <th></th>\n",
              "      <th></th>\n",
              "      <th></th>\n",
              "      <th></th>\n",
              "      <th></th>\n",
              "      <th></th>\n",
              "      <th></th>\n",
              "      <th></th>\n",
              "      <th></th>\n",
              "      <th></th>\n",
              "      <th></th>\n",
              "    </tr>\n",
              "  </thead>\n",
              "  <tbody>\n",
              "    <tr>\n",
              "      <th>1</th>\n",
              "      <td>6675.7</td>\n",
              "      <td>3220.9</td>\n",
              "      <td>3191.7</td>\n",
              "      <td>5555.3</td>\n",
              "      <td>9188.2</td>\n",
              "      <td>5449.4</td>\n",
              "      <td>5336.1</td>\n",
              "      <td>4967.6</td>\n",
              "      <td>6601.7</td>\n",
              "      <td>3612.9</td>\n",
              "      <td>9006.5</td>\n",
              "      <td>5138.6</td>\n",
              "      <td>4314.8</td>\n",
              "    </tr>\n",
              "    <tr>\n",
              "      <th>3</th>\n",
              "      <td>6467.2</td>\n",
              "      <td>6185.4</td>\n",
              "      <td>7091.9</td>\n",
              "      <td>4642.3</td>\n",
              "      <td>8575.8</td>\n",
              "      <td>3794.3</td>\n",
              "      <td>7704.8</td>\n",
              "      <td>6732.2</td>\n",
              "      <td>5145.7</td>\n",
              "      <td>3574.5</td>\n",
              "      <td>7956.6</td>\n",
              "      <td>3897.4</td>\n",
              "      <td>4529.0</td>\n",
              "    </tr>\n",
              "    <tr>\n",
              "      <th>5</th>\n",
              "      <td>6555.3</td>\n",
              "      <td>5257.2</td>\n",
              "      <td>4608.7</td>\n",
              "      <td>3356.0</td>\n",
              "      <td>6109.8</td>\n",
              "      <td>3047.3</td>\n",
              "      <td>7718.9</td>\n",
              "      <td>7382.4</td>\n",
              "      <td>7217.3</td>\n",
              "      <td>4851.2</td>\n",
              "      <td>8200.7</td>\n",
              "      <td>3391.7</td>\n",
              "      <td>3162.9</td>\n",
              "    </tr>\n",
              "    <tr>\n",
              "      <th>7</th>\n",
              "      <td>7703.4</td>\n",
              "      <td>5629.7</td>\n",
              "      <td>6049.6</td>\n",
              "      <td>3636.6</td>\n",
              "      <td>8208.2</td>\n",
              "      <td>5352.0</td>\n",
              "      <td>6228.0</td>\n",
              "      <td>7734.1</td>\n",
              "      <td>7261.3</td>\n",
              "      <td>4088.4</td>\n",
              "      <td>7067.0</td>\n",
              "      <td>4126.7</td>\n",
              "      <td>4941.3</td>\n",
              "    </tr>\n",
              "    <tr>\n",
              "      <th>9</th>\n",
              "      <td>7610.6</td>\n",
              "      <td>7415.9</td>\n",
              "      <td>4781.3</td>\n",
              "      <td>5420.0</td>\n",
              "      <td>6491.1</td>\n",
              "      <td>1989.5</td>\n",
              "      <td>7334.3</td>\n",
              "      <td>5807.8</td>\n",
              "      <td>5617.4</td>\n",
              "      <td>3844.9</td>\n",
              "      <td>7400.6</td>\n",
              "      <td>5325.0</td>\n",
              "      <td>4278.2</td>\n",
              "    </tr>\n",
              "  </tbody>\n",
              "</table>\n",
              "</div>"
            ],
            "text/plain": [
              "   normalized_losses  wheel_base  length  ...  peak-rpm  city-mpg  highway-mpg\n",
              "k                                         ...                                 \n",
              "1             6675.7      3220.9  3191.7  ...    9006.5    5138.6       4314.8\n",
              "3             6467.2      6185.4  7091.9  ...    7956.6    3897.4       4529.0\n",
              "5             6555.3      5257.2  4608.7  ...    8200.7    3391.7       3162.9\n",
              "7             7703.4      5629.7  6049.6  ...    7067.0    4126.7       4941.3\n",
              "9             7610.6      7415.9  4781.3  ...    7400.6    5325.0       4278.2\n",
              "\n",
              "[5 rows x 13 columns]"
            ]
          },
          "metadata": {
            "tags": []
          },
          "execution_count": 20
        }
      ]
    },
    {
      "cell_type": "code",
      "metadata": {
        "id": "Esr7sVZUlxoc",
        "outputId": "5944670f-09f1-4f78-934c-59809423db21",
        "colab": {
          "base_uri": "https://localhost:8080/",
          "height": 252
        }
      },
      "source": [
        "univariate_mse.mean().sort_values()"
      ],
      "execution_count": 21,
      "outputs": [
        {
          "output_type": "execute_result",
          "data": {
            "text/plain": [
              "curb_weight          3926.50\n",
              "horsepower           3994.38\n",
              "highway-mpg          4245.24\n",
              "city-mpg             4375.88\n",
              "width                4522.04\n",
              "length               5144.64\n",
              "wheel_base           5541.82\n",
              "compression-ratio    6368.68\n",
              "stroke               6524.82\n",
              "bore                 6864.42\n",
              "normalized_losses    7002.44\n",
              "height               7714.62\n",
              "peak-rpm             7926.28\n",
              "dtype: float64"
            ]
          },
          "metadata": {
            "tags": []
          },
          "execution_count": 21
        }
      ]
    },
    {
      "cell_type": "code",
      "metadata": {
        "id": "jGFDqus8l4IJ",
        "outputId": "59ade18e-d549-4558-9463-ca2dadf0d0f0",
        "colab": {
          "base_uri": "https://localhost:8080/",
          "height": 405
        }
      },
      "source": [
        "univariate_mse.min().sort_values()\n",
        "import matplotlib.pyplot as plt\n",
        "% matplotlib inline\n",
        "\n",
        "plt.style.use('fivethirtyeight')\n",
        "\n",
        "univariate_mse.mean(axis=1).plot()\n",
        "plt.xticks([1,3,5,7,9])\n"
      ],
      "execution_count": 23,
      "outputs": [
        {
          "output_type": "execute_result",
          "data": {
            "text/plain": [
              "([<matplotlib.axis.XTick at 0x7f5bb4445f28>,\n",
              "  <matplotlib.axis.XTick at 0x7f5bb4445ef0>,\n",
              "  <matplotlib.axis.XTick at 0x7f5bb43fc978>,\n",
              "  <matplotlib.axis.XTick at 0x7f5bb43fcf28>,\n",
              "  <matplotlib.axis.XTick at 0x7f5bb441b588>],\n",
              " <a list of 5 Text major ticklabel objects>)"
            ]
          },
          "metadata": {
            "tags": []
          },
          "execution_count": 23
        },
        {
          "output_type": "display_data",
          "data": {
            "image/png": "[encoded data removed]",
            "text/plain": [
              "<Figure size 432x288 with 1 Axes>"
            ]
          },
          "metadata": {
            "tags": []
          }
        }
      ]
    },
    {
      "cell_type": "code",
      "metadata": {
        "id": "fPH3o7xlmAN2",
        "outputId": "92243170-1f30-42d7-82d8-5e648460a52c",
        "colab": {
          "base_uri": "https://localhost:8080/",
          "height": 422
        }
      },
      "source": [
        "import matplotlib.pyplot as plt\n",
        "% matplotlib inline\n",
        "\n",
        "\n",
        "fig, ax = plt.subplots(figsize=(12,6))\n",
        "\n",
        "univariate_mse['horsepower'].plot()\n",
        "univariate_mse['city-mpg'].plot()\n",
        "univariate_mse['width'].plot()\n",
        "plt.xticks([1,3,5,7,9])\n",
        "plt.title('RMSE for Horsepower')\n",
        "plt.ylabel('RMSE')\n",
        "plt.xlabel('k')\n",
        "plt.legend(loc='upper left')"
      ],
      "execution_count": 24,
      "outputs": [
        {
          "output_type": "execute_result",
          "data": {
            "text/plain": [
              "<matplotlib.legend.Legend at 0x7f5bb3f37780>"
            ]
          },
          "metadata": {
            "tags": []
          },
          "execution_count": 24
        },
        {
          "output_type": "display_data",
          "data": {
            "image/png": "[encoded data removed]",
            "text/plain": [
              "<Figure size 864x432 with 1 Axes>"
            ]
          },
          "metadata": {
            "tags": [],
            "needs_background": "light"
          }
        }
      ]
    },
    {
      "cell_type": "code",
      "metadata": {
        "id": "7XwzyRz-mFBC"
      },
      "source": [
        "def knn_train_test_multi(training_columns, target_column, dataframe, k):\n",
        "    # Shuffling the index and creating two sets:\n",
        "    shuffled_index = np.random.permutation(dataframe.index)\n",
        "    dataframe = dataframe.reindex(shuffled_index)\n",
        "    train_df = dataframe.iloc[0:150]\n",
        "    test_df = dataframe.iloc[150:]   \n",
        "\n",
        "    # Apllying the model\n",
        "    knn = KNeighborsRegressor(n_neighbors = k)\n",
        "    knn.fit(train_df[training_columns], train_df[target_column])\n",
        "    predictions = knn.predict(test_df[training_columns])\n",
        "    \n",
        "    # Returning the RMSE\n",
        "    mse = mean_squared_error(test_df[target_column], predictions) \n",
        "    return sqrt(mse)"
      ],
      "execution_count": 25,
      "outputs": []
    },
    {
      "cell_type": "code",
      "metadata": {
        "id": "ppbK3t8_mLAC"
      },
      "source": [
        "rmse = knn_train_test_multi(['horsepower', 'width'], 'price', numeric_cars, 2)"
      ],
      "execution_count": 27,
      "outputs": []
    },
    {
      "cell_type": "code",
      "metadata": {
        "id": "JqBGlSOfmWV9"
      },
      "source": [
        "two_features = ['horsepower', 'width']\n",
        "three_features = ['horsepower', 'width', 'city-mpg']\n",
        "four_features = ['horsepower', 'width', 'city-mpg', 'curb_weight']\n",
        "five_features = ['horsepower', 'width', 'city-mpg', 'curb_weight', 'highway-mpg']\n",
        "all_features = list(numeric_cars.columns)\n",
        "all_features.remove('price')\n",
        "feature_combination = [two_features, three_features, four_features, five_features, all_features]\n",
        "feature_names= ['two_features', 'three_features', 'four_features', 'five_features', 'all_features']\n",
        "k_values = [i for i in range(1, 26)]\n",
        "mse_dict_multi = {}\n",
        "\n",
        "for index, features in enumerate(feature_combination):\n",
        "    mse_list = []\n",
        "    mse_dict_multi[feature_names[index]] = mse_list\n",
        "    for k in k_values:\n",
        "        mse = round(knn_train_test_multi(features, 'price', numeric_cars, k), 1)\n",
        "        mse_list.append(mse)"
      ],
      "execution_count": 28,
      "outputs": []
    },
    {
      "cell_type": "code",
      "metadata": {
        "id": "UCbLaAkcmYUA",
        "outputId": "dafb3f6e-48ad-4325-a63a-27a12bec718a",
        "colab": {
          "base_uri": "https://localhost:8080/",
          "height": 817
        }
      },
      "source": [
        "multivariate_mse = pd.DataFrame(data = mse_dict_multi)\n",
        "multivariate_mse['k'] = k_values\n",
        "multivariate_mse =multivariate_mse.set_index('k')\n",
        "multivariate_mse"
      ],
      "execution_count": 30,
      "outputs": [
        {
          "output_type": "execute_result",
          "data": {
            "text/html": [
              "<div>\n",
              "<style scoped>\n",
              "    .dataframe tbody tr th:only-of-type {\n",
              "        vertical-align: middle;\n",
              "    }\n",
              "\n",
              "    .dataframe tbody tr th {\n",
              "        vertical-align: top;\n",
              "    }\n",
              "\n",
              "    .dataframe thead th {\n",
              "        text-align: right;\n",
              "    }\n",
              "</style>\n",
              "<table border=\"1\" class=\"dataframe\">\n",
              "  <thead>\n",
              "    <tr style=\"text-align: right;\">\n",
              "      <th></th>\n",
              "      <th>two_features</th>\n",
              "      <th>three_features</th>\n",
              "      <th>four_features</th>\n",
              "      <th>five_features</th>\n",
              "      <th>all_features</th>\n",
              "    </tr>\n",
              "    <tr>\n",
              "      <th>k</th>\n",
              "      <th></th>\n",
              "      <th></th>\n",
              "      <th></th>\n",
              "      <th></th>\n",
              "      <th></th>\n",
              "    </tr>\n",
              "  </thead>\n",
              "  <tbody>\n",
              "    <tr>\n",
              "      <th>1</th>\n",
              "      <td>4626.1</td>\n",
              "      <td>2930.5</td>\n",
              "      <td>3000.0</td>\n",
              "      <td>2309.8</td>\n",
              "      <td>2252.9</td>\n",
              "    </tr>\n",
              "    <tr>\n",
              "      <th>2</th>\n",
              "      <td>2896.2</td>\n",
              "      <td>3031.1</td>\n",
              "      <td>4172.7</td>\n",
              "      <td>2671.2</td>\n",
              "      <td>2107.0</td>\n",
              "    </tr>\n",
              "    <tr>\n",
              "      <th>3</th>\n",
              "      <td>3134.8</td>\n",
              "      <td>3400.1</td>\n",
              "      <td>2448.3</td>\n",
              "      <td>2655.8</td>\n",
              "      <td>2727.0</td>\n",
              "    </tr>\n",
              "    <tr>\n",
              "      <th>4</th>\n",
              "      <td>3722.8</td>\n",
              "      <td>2208.7</td>\n",
              "      <td>2625.9</td>\n",
              "      <td>1899.0</td>\n",
              "      <td>3704.9</td>\n",
              "    </tr>\n",
              "    <tr>\n",
              "      <th>5</th>\n",
              "      <td>3848.9</td>\n",
              "      <td>2830.9</td>\n",
              "      <td>4733.1</td>\n",
              "      <td>3999.7</td>\n",
              "      <td>5792.4</td>\n",
              "    </tr>\n",
              "    <tr>\n",
              "      <th>6</th>\n",
              "      <td>4256.4</td>\n",
              "      <td>2457.1</td>\n",
              "      <td>3970.1</td>\n",
              "      <td>2596.4</td>\n",
              "      <td>3519.6</td>\n",
              "    </tr>\n",
              "    <tr>\n",
              "      <th>7</th>\n",
              "      <td>3464.7</td>\n",
              "      <td>3419.4</td>\n",
              "      <td>3101.9</td>\n",
              "      <td>3375.2</td>\n",
              "      <td>3326.3</td>\n",
              "    </tr>\n",
              "    <tr>\n",
              "      <th>8</th>\n",
              "      <td>4085.1</td>\n",
              "      <td>4439.3</td>\n",
              "      <td>2825.7</td>\n",
              "      <td>3812.1</td>\n",
              "      <td>3671.5</td>\n",
              "    </tr>\n",
              "    <tr>\n",
              "      <th>9</th>\n",
              "      <td>5493.0</td>\n",
              "      <td>3350.7</td>\n",
              "      <td>2356.0</td>\n",
              "      <td>3011.0</td>\n",
              "      <td>5288.8</td>\n",
              "    </tr>\n",
              "    <tr>\n",
              "      <th>10</th>\n",
              "      <td>4870.9</td>\n",
              "      <td>3492.5</td>\n",
              "      <td>3320.1</td>\n",
              "      <td>4806.8</td>\n",
              "      <td>3594.3</td>\n",
              "    </tr>\n",
              "    <tr>\n",
              "      <th>11</th>\n",
              "      <td>4723.2</td>\n",
              "      <td>2723.3</td>\n",
              "      <td>2899.7</td>\n",
              "      <td>3532.0</td>\n",
              "      <td>5068.6</td>\n",
              "    </tr>\n",
              "    <tr>\n",
              "      <th>12</th>\n",
              "      <td>4151.2</td>\n",
              "      <td>2962.5</td>\n",
              "      <td>4439.2</td>\n",
              "      <td>4225.1</td>\n",
              "      <td>3688.6</td>\n",
              "    </tr>\n",
              "    <tr>\n",
              "      <th>13</th>\n",
              "      <td>4114.9</td>\n",
              "      <td>2852.4</td>\n",
              "      <td>2317.6</td>\n",
              "      <td>4321.3</td>\n",
              "      <td>4403.2</td>\n",
              "    </tr>\n",
              "    <tr>\n",
              "      <th>14</th>\n",
              "      <td>3019.5</td>\n",
              "      <td>4696.5</td>\n",
              "      <td>3248.5</td>\n",
              "      <td>3713.4</td>\n",
              "      <td>5208.4</td>\n",
              "    </tr>\n",
              "    <tr>\n",
              "      <th>15</th>\n",
              "      <td>3878.9</td>\n",
              "      <td>3503.3</td>\n",
              "      <td>3722.4</td>\n",
              "      <td>4832.5</td>\n",
              "      <td>3563.0</td>\n",
              "    </tr>\n",
              "    <tr>\n",
              "      <th>16</th>\n",
              "      <td>4003.4</td>\n",
              "      <td>3707.0</td>\n",
              "      <td>3798.2</td>\n",
              "      <td>5347.5</td>\n",
              "      <td>6011.7</td>\n",
              "    </tr>\n",
              "    <tr>\n",
              "      <th>17</th>\n",
              "      <td>3276.6</td>\n",
              "      <td>3377.2</td>\n",
              "      <td>4130.2</td>\n",
              "      <td>2688.3</td>\n",
              "      <td>4913.4</td>\n",
              "    </tr>\n",
              "    <tr>\n",
              "      <th>18</th>\n",
              "      <td>3359.8</td>\n",
              "      <td>5972.9</td>\n",
              "      <td>3791.6</td>\n",
              "      <td>3465.8</td>\n",
              "      <td>6255.5</td>\n",
              "    </tr>\n",
              "    <tr>\n",
              "      <th>19</th>\n",
              "      <td>4192.7</td>\n",
              "      <td>4405.8</td>\n",
              "      <td>6178.7</td>\n",
              "      <td>3124.0</td>\n",
              "      <td>4863.7</td>\n",
              "    </tr>\n",
              "    <tr>\n",
              "      <th>20</th>\n",
              "      <td>3962.5</td>\n",
              "      <td>2803.9</td>\n",
              "      <td>3347.0</td>\n",
              "      <td>4479.8</td>\n",
              "      <td>5651.5</td>\n",
              "    </tr>\n",
              "    <tr>\n",
              "      <th>21</th>\n",
              "      <td>3947.7</td>\n",
              "      <td>4298.6</td>\n",
              "      <td>4479.4</td>\n",
              "      <td>4054.7</td>\n",
              "      <td>4819.0</td>\n",
              "    </tr>\n",
              "    <tr>\n",
              "      <th>22</th>\n",
              "      <td>3849.0</td>\n",
              "      <td>3612.7</td>\n",
              "      <td>3555.1</td>\n",
              "      <td>4471.1</td>\n",
              "      <td>6211.9</td>\n",
              "    </tr>\n",
              "    <tr>\n",
              "      <th>23</th>\n",
              "      <td>4991.6</td>\n",
              "      <td>3263.8</td>\n",
              "      <td>3500.4</td>\n",
              "      <td>3328.4</td>\n",
              "      <td>4406.5</td>\n",
              "    </tr>\n",
              "    <tr>\n",
              "      <th>24</th>\n",
              "      <td>4578.6</td>\n",
              "      <td>4574.6</td>\n",
              "      <td>3432.2</td>\n",
              "      <td>3795.0</td>\n",
              "      <td>4330.9</td>\n",
              "    </tr>\n",
              "    <tr>\n",
              "      <th>25</th>\n",
              "      <td>6197.0</td>\n",
              "      <td>4809.0</td>\n",
              "      <td>4422.3</td>\n",
              "      <td>6158.9</td>\n",
              "      <td>4067.8</td>\n",
              "    </tr>\n",
              "  </tbody>\n",
              "</table>\n",
              "</div>"
            ],
            "text/plain": [
              "    two_features  three_features  four_features  five_features  all_features\n",
              "k                                                                           \n",
              "1         4626.1          2930.5         3000.0         2309.8        2252.9\n",
              "2         2896.2          3031.1         4172.7         2671.2        2107.0\n",
              "3         3134.8          3400.1         2448.3         2655.8        2727.0\n",
              "4         3722.8          2208.7         2625.9         1899.0        3704.9\n",
              "5         3848.9          2830.9         4733.1         3999.7        5792.4\n",
              "6         4256.4          2457.1         3970.1         2596.4        3519.6\n",
              "7         3464.7          3419.4         3101.9         3375.2        3326.3\n",
              "8         4085.1          4439.3         2825.7         3812.1        3671.5\n",
              "9         5493.0          3350.7         2356.0         3011.0        5288.8\n",
              "10        4870.9          3492.5         3320.1         4806.8        3594.3\n",
              "11        4723.2          2723.3         2899.7         3532.0        5068.6\n",
              "12        4151.2          2962.5         4439.2         4225.1        3688.6\n",
              "13        4114.9          2852.4         2317.6         4321.3        4403.2\n",
              "14        3019.5          4696.5         3248.5         3713.4        5208.4\n",
              "15        3878.9          3503.3         3722.4         4832.5        3563.0\n",
              "16        4003.4          3707.0         3798.2         5347.5        6011.7\n",
              "17        3276.6          3377.2         4130.2         2688.3        4913.4\n",
              "18        3359.8          5972.9         3791.6         3465.8        6255.5\n",
              "19        4192.7          4405.8         6178.7         3124.0        4863.7\n",
              "20        3962.5          2803.9         3347.0         4479.8        5651.5\n",
              "21        3947.7          4298.6         4479.4         4054.7        4819.0\n",
              "22        3849.0          3612.7         3555.1         4471.1        6211.9\n",
              "23        4991.6          3263.8         3500.4         3328.4        4406.5\n",
              "24        4578.6          4574.6         3432.2         3795.0        4330.9\n",
              "25        6197.0          4809.0         4422.3         6158.9        4067.8"
            ]
          },
          "metadata": {
            "tags": []
          },
          "execution_count": 30
        }
      ]
    },
    {
      "cell_type": "code",
      "metadata": {
        "id": "R1i_KQg0mhoO",
        "outputId": "d867f7c0-4e8c-4806-e57c-1d35e129bb00",
        "colab": {
          "base_uri": "https://localhost:8080/",
          "height": 118
        }
      },
      "source": [
        "\n",
        "multivariate_mse.min().sort_values()"
      ],
      "execution_count": 31,
      "outputs": [
        {
          "output_type": "execute_result",
          "data": {
            "text/plain": [
              "five_features     1899.0\n",
              "all_features      2107.0\n",
              "three_features    2208.7\n",
              "four_features     2317.6\n",
              "two_features      2896.2\n",
              "dtype: float64"
            ]
          },
          "metadata": {
            "tags": []
          },
          "execution_count": 31
        }
      ]
    },
    {
      "cell_type": "code",
      "metadata": {
        "id": "eFnpCyFyml-6",
        "outputId": "d84efbc6-ef75-4503-f412-ca16ac3d08e5",
        "colab": {
          "base_uri": "https://localhost:8080/",
          "height": 313
        }
      },
      "source": [
        "multivariate_mse['three_features'].plot()\n",
        "plt.title('RMSE using three features')\n",
        "plt.ylabel('RMSE')\n",
        "plt.xlabel('k')"
      ],
      "execution_count": 32,
      "outputs": [
        {
          "output_type": "execute_result",
          "data": {
            "text/plain": [
              "Text(0.5, 0, 'k')"
            ]
          },
          "metadata": {
            "tags": []
          },
          "execution_count": 32
        },
        {
          "output_type": "display_data",
          "data": {
            "image/png": "[encoded data removed]",
            "text/plain": [
              "<Figure size 432x288 with 1 Axes>"
            ]
          },
          "metadata": {
            "tags": [],
            "needs_background": "light"
          }
        }
      ]
    },
    {
      "cell_type": "code",
      "metadata": {
        "id": "naDxE4T8mqhr"
      },
      "source": [
        ""
      ],
      "execution_count": null,
      "outputs": []
    }
  ]
}